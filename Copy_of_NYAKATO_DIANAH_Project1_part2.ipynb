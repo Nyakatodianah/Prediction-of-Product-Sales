{
  "nbformat": 4,
  "nbformat_minor": 0,
  "metadata": {
    "colab": {
      "provenance": [],
      "mount_file_id": "16FwBrClgdSVC7yedllFkABnZau_Q8MUh",
      "authorship_tag": "ABX9TyOE5B8M4oQezFvIsz3maxtU",
      "include_colab_link": true
    },
    "kernelspec": {
      "name": "python3",
      "display_name": "Python 3"
    },
    "language_info": {
      "name": "python"
    }
  },
  "cells": [
    {
      "cell_type": "markdown",
      "metadata": {
        "id": "view-in-github",
        "colab_type": "text"
      },
      "source": [
        "<a href=\"https://colab.research.google.com/github/Nyakatodianah/Prediction-of-Product-Sales/blob/main/Copy_of_NYAKATO_DIANAH_Project1_part2.ipynb\" target=\"_parent\"><img src=\"https://colab.research.google.com/assets/colab-badge.svg\" alt=\"Open In Colab\"/></a>"
      ]
    },
    {
      "cell_type": "code",
      "execution_count": 5,
      "metadata": {
        "colab": {
          "base_uri": "https://localhost:8080/"
        },
        "id": "Uc7vC8itjlpr",
        "outputId": "6805a634-32d7-48a4-894c-72534f879704"
      },
      "outputs": [
        {
          "output_type": "stream",
          "name": "stdout",
          "text": [
            "Drive already mounted at /content.drive; to attempt to forcibly remount, call drive.mount(\"/content.drive\", force_remount=True).\n"
          ]
        }
      ],
      "source": [
        "from google.colab import drive\n",
        "drive.mount('/content.drive')\n"
      ]
    },
    {
      "cell_type": "code",
      "source": [
        "import pandas as pd\n",
        "import numpy as np\n",
        "import matplotlib.pyplot as plt\n",
        "import seaborn as sns"
      ],
      "metadata": {
        "id": "O16ryiLRrxEI"
      },
      "execution_count": 70,
      "outputs": []
    },
    {
      "cell_type": "code",
      "source": [
        "#Loading Data\n",
        "filename=\"sales_predictions_2023.csv\"\n",
        "filepath=\"/content.drive/MyDrive/COURSE 1-WEEK2/sales_predictions_2023.csv\"\n",
        "df=pd.read_csv(filepath)\n",
        "print(df)\n"
      ],
      "metadata": {
        "colab": {
          "base_uri": "https://localhost:8080/"
        },
        "id": "r9ku8Ku-r4jX",
        "outputId": "6ed4bfc1-db0e-4262-82c6-ae5bb1b92a2b"
      },
      "execution_count": 3,
      "outputs": [
        {
          "output_type": "stream",
          "name": "stdout",
          "text": [
            "     Item_Identifier  Item_Weight Item_Fat_Content  Item_Visibility  \\\n",
            "0              FDA15        9.300          Low Fat         0.016047   \n",
            "1              DRC01        5.920          Regular         0.019278   \n",
            "2              FDN15       17.500          Low Fat         0.016760   \n",
            "3              FDX07       19.200          Regular         0.000000   \n",
            "4              NCD19        8.930          Low Fat         0.000000   \n",
            "...              ...          ...              ...              ...   \n",
            "8518           FDF22        6.865          Low Fat         0.056783   \n",
            "8519           FDS36        8.380          Regular         0.046982   \n",
            "8520           NCJ29       10.600          Low Fat         0.035186   \n",
            "8521           FDN46        7.210          Regular         0.145221   \n",
            "8522           DRG01       14.800          Low Fat         0.044878   \n",
            "\n",
            "                  Item_Type  Item_MRP Outlet_Identifier  \\\n",
            "0                     Dairy  249.8092            OUT049   \n",
            "1               Soft Drinks   48.2692            OUT018   \n",
            "2                      Meat  141.6180            OUT049   \n",
            "3     Fruits and Vegetables  182.0950            OUT010   \n",
            "4                 Household   53.8614            OUT013   \n",
            "...                     ...       ...               ...   \n",
            "8518            Snack Foods  214.5218            OUT013   \n",
            "8519           Baking Goods  108.1570            OUT045   \n",
            "8520     Health and Hygiene   85.1224            OUT035   \n",
            "8521            Snack Foods  103.1332            OUT018   \n",
            "8522            Soft Drinks   75.4670            OUT046   \n",
            "\n",
            "      Outlet_Establishment_Year Outlet_Size Outlet_Location_Type  \\\n",
            "0                          1999      Medium               Tier 1   \n",
            "1                          2009      Medium               Tier 3   \n",
            "2                          1999      Medium               Tier 1   \n",
            "3                          1998         NaN               Tier 3   \n",
            "4                          1987        High               Tier 3   \n",
            "...                         ...         ...                  ...   \n",
            "8518                       1987        High               Tier 3   \n",
            "8519                       2002         NaN               Tier 2   \n",
            "8520                       2004       Small               Tier 2   \n",
            "8521                       2009      Medium               Tier 3   \n",
            "8522                       1997       Small               Tier 1   \n",
            "\n",
            "            Outlet_Type  Item_Outlet_Sales  \n",
            "0     Supermarket Type1          3735.1380  \n",
            "1     Supermarket Type2           443.4228  \n",
            "2     Supermarket Type1          2097.2700  \n",
            "3         Grocery Store           732.3800  \n",
            "4     Supermarket Type1           994.7052  \n",
            "...                 ...                ...  \n",
            "8518  Supermarket Type1          2778.3834  \n",
            "8519  Supermarket Type1           549.2850  \n",
            "8520  Supermarket Type1          1193.1136  \n",
            "8521  Supermarket Type2          1845.5976  \n",
            "8522  Supermarket Type1           765.6700  \n",
            "\n",
            "[8523 rows x 12 columns]\n"
          ]
        }
      ]
    },
    {
      "cell_type": "code",
      "source": [
        "df.head()"
      ],
      "metadata": {
        "colab": {
          "base_uri": "https://localhost:8080/",
          "height": 293
        },
        "id": "sWyF-Q4FuFhl",
        "outputId": "67817296-bc6d-4753-e3ea-4ac0881a47ac"
      },
      "execution_count": 4,
      "outputs": [
        {
          "output_type": "execute_result",
          "data": {
            "text/plain": [
              "  Item_Identifier  Item_Weight Item_Fat_Content  Item_Visibility  \\\n",
              "0           FDA15         9.30          Low Fat         0.016047   \n",
              "1           DRC01         5.92          Regular         0.019278   \n",
              "2           FDN15        17.50          Low Fat         0.016760   \n",
              "3           FDX07        19.20          Regular         0.000000   \n",
              "4           NCD19         8.93          Low Fat         0.000000   \n",
              "\n",
              "               Item_Type  Item_MRP Outlet_Identifier  \\\n",
              "0                  Dairy  249.8092            OUT049   \n",
              "1            Soft Drinks   48.2692            OUT018   \n",
              "2                   Meat  141.6180            OUT049   \n",
              "3  Fruits and Vegetables  182.0950            OUT010   \n",
              "4              Household   53.8614            OUT013   \n",
              "\n",
              "   Outlet_Establishment_Year Outlet_Size Outlet_Location_Type  \\\n",
              "0                       1999      Medium               Tier 1   \n",
              "1                       2009      Medium               Tier 3   \n",
              "2                       1999      Medium               Tier 1   \n",
              "3                       1998         NaN               Tier 3   \n",
              "4                       1987        High               Tier 3   \n",
              "\n",
              "         Outlet_Type  Item_Outlet_Sales  \n",
              "0  Supermarket Type1          3735.1380  \n",
              "1  Supermarket Type2           443.4228  \n",
              "2  Supermarket Type1          2097.2700  \n",
              "3      Grocery Store           732.3800  \n",
              "4  Supermarket Type1           994.7052  "
            ],
            "text/html": [
              "\n",
              "  <div id=\"df-167b49a4-0a6a-4ff3-971f-ae64f5e15c31\" class=\"colab-df-container\">\n",
              "    <div>\n",
              "<style scoped>\n",
              "    .dataframe tbody tr th:only-of-type {\n",
              "        vertical-align: middle;\n",
              "    }\n",
              "\n",
              "    .dataframe tbody tr th {\n",
              "        vertical-align: top;\n",
              "    }\n",
              "\n",
              "    .dataframe thead th {\n",
              "        text-align: right;\n",
              "    }\n",
              "</style>\n",
              "<table border=\"1\" class=\"dataframe\">\n",
              "  <thead>\n",
              "    <tr style=\"text-align: right;\">\n",
              "      <th></th>\n",
              "      <th>Item_Identifier</th>\n",
              "      <th>Item_Weight</th>\n",
              "      <th>Item_Fat_Content</th>\n",
              "      <th>Item_Visibility</th>\n",
              "      <th>Item_Type</th>\n",
              "      <th>Item_MRP</th>\n",
              "      <th>Outlet_Identifier</th>\n",
              "      <th>Outlet_Establishment_Year</th>\n",
              "      <th>Outlet_Size</th>\n",
              "      <th>Outlet_Location_Type</th>\n",
              "      <th>Outlet_Type</th>\n",
              "      <th>Item_Outlet_Sales</th>\n",
              "    </tr>\n",
              "  </thead>\n",
              "  <tbody>\n",
              "    <tr>\n",
              "      <th>0</th>\n",
              "      <td>FDA15</td>\n",
              "      <td>9.30</td>\n",
              "      <td>Low Fat</td>\n",
              "      <td>0.016047</td>\n",
              "      <td>Dairy</td>\n",
              "      <td>249.8092</td>\n",
              "      <td>OUT049</td>\n",
              "      <td>1999</td>\n",
              "      <td>Medium</td>\n",
              "      <td>Tier 1</td>\n",
              "      <td>Supermarket Type1</td>\n",
              "      <td>3735.1380</td>\n",
              "    </tr>\n",
              "    <tr>\n",
              "      <th>1</th>\n",
              "      <td>DRC01</td>\n",
              "      <td>5.92</td>\n",
              "      <td>Regular</td>\n",
              "      <td>0.019278</td>\n",
              "      <td>Soft Drinks</td>\n",
              "      <td>48.2692</td>\n",
              "      <td>OUT018</td>\n",
              "      <td>2009</td>\n",
              "      <td>Medium</td>\n",
              "      <td>Tier 3</td>\n",
              "      <td>Supermarket Type2</td>\n",
              "      <td>443.4228</td>\n",
              "    </tr>\n",
              "    <tr>\n",
              "      <th>2</th>\n",
              "      <td>FDN15</td>\n",
              "      <td>17.50</td>\n",
              "      <td>Low Fat</td>\n",
              "      <td>0.016760</td>\n",
              "      <td>Meat</td>\n",
              "      <td>141.6180</td>\n",
              "      <td>OUT049</td>\n",
              "      <td>1999</td>\n",
              "      <td>Medium</td>\n",
              "      <td>Tier 1</td>\n",
              "      <td>Supermarket Type1</td>\n",
              "      <td>2097.2700</td>\n",
              "    </tr>\n",
              "    <tr>\n",
              "      <th>3</th>\n",
              "      <td>FDX07</td>\n",
              "      <td>19.20</td>\n",
              "      <td>Regular</td>\n",
              "      <td>0.000000</td>\n",
              "      <td>Fruits and Vegetables</td>\n",
              "      <td>182.0950</td>\n",
              "      <td>OUT010</td>\n",
              "      <td>1998</td>\n",
              "      <td>NaN</td>\n",
              "      <td>Tier 3</td>\n",
              "      <td>Grocery Store</td>\n",
              "      <td>732.3800</td>\n",
              "    </tr>\n",
              "    <tr>\n",
              "      <th>4</th>\n",
              "      <td>NCD19</td>\n",
              "      <td>8.93</td>\n",
              "      <td>Low Fat</td>\n",
              "      <td>0.000000</td>\n",
              "      <td>Household</td>\n",
              "      <td>53.8614</td>\n",
              "      <td>OUT013</td>\n",
              "      <td>1987</td>\n",
              "      <td>High</td>\n",
              "      <td>Tier 3</td>\n",
              "      <td>Supermarket Type1</td>\n",
              "      <td>994.7052</td>\n",
              "    </tr>\n",
              "  </tbody>\n",
              "</table>\n",
              "</div>\n",
              "    <div class=\"colab-df-buttons\">\n",
              "\n",
              "  <div class=\"colab-df-container\">\n",
              "    <button class=\"colab-df-convert\" onclick=\"convertToInteractive('df-167b49a4-0a6a-4ff3-971f-ae64f5e15c31')\"\n",
              "            title=\"Convert this dataframe to an interactive table.\"\n",
              "            style=\"display:none;\">\n",
              "\n",
              "  <svg xmlns=\"http://www.w3.org/2000/svg\" height=\"24px\" viewBox=\"0 -960 960 960\">\n",
              "    <path d=\"M120-120v-720h720v720H120Zm60-500h600v-160H180v160Zm220 220h160v-160H400v160Zm0 220h160v-160H400v160ZM180-400h160v-160H180v160Zm440 0h160v-160H620v160ZM180-180h160v-160H180v160Zm440 0h160v-160H620v160Z\"/>\n",
              "  </svg>\n",
              "    </button>\n",
              "\n",
              "  <style>\n",
              "    .colab-df-container {\n",
              "      display:flex;\n",
              "      gap: 12px;\n",
              "    }\n",
              "\n",
              "    .colab-df-convert {\n",
              "      background-color: #E8F0FE;\n",
              "      border: none;\n",
              "      border-radius: 50%;\n",
              "      cursor: pointer;\n",
              "      display: none;\n",
              "      fill: #1967D2;\n",
              "      height: 32px;\n",
              "      padding: 0 0 0 0;\n",
              "      width: 32px;\n",
              "    }\n",
              "\n",
              "    .colab-df-convert:hover {\n",
              "      background-color: #E2EBFA;\n",
              "      box-shadow: 0px 1px 2px rgba(60, 64, 67, 0.3), 0px 1px 3px 1px rgba(60, 64, 67, 0.15);\n",
              "      fill: #174EA6;\n",
              "    }\n",
              "\n",
              "    .colab-df-buttons div {\n",
              "      margin-bottom: 4px;\n",
              "    }\n",
              "\n",
              "    [theme=dark] .colab-df-convert {\n",
              "      background-color: #3B4455;\n",
              "      fill: #D2E3FC;\n",
              "    }\n",
              "\n",
              "    [theme=dark] .colab-df-convert:hover {\n",
              "      background-color: #434B5C;\n",
              "      box-shadow: 0px 1px 3px 1px rgba(0, 0, 0, 0.15);\n",
              "      filter: drop-shadow(0px 1px 2px rgba(0, 0, 0, 0.3));\n",
              "      fill: #FFFFFF;\n",
              "    }\n",
              "  </style>\n",
              "\n",
              "    <script>\n",
              "      const buttonEl =\n",
              "        document.querySelector('#df-167b49a4-0a6a-4ff3-971f-ae64f5e15c31 button.colab-df-convert');\n",
              "      buttonEl.style.display =\n",
              "        google.colab.kernel.accessAllowed ? 'block' : 'none';\n",
              "\n",
              "      async function convertToInteractive(key) {\n",
              "        const element = document.querySelector('#df-167b49a4-0a6a-4ff3-971f-ae64f5e15c31');\n",
              "        const dataTable =\n",
              "          await google.colab.kernel.invokeFunction('convertToInteractive',\n",
              "                                                    [key], {});\n",
              "        if (!dataTable) return;\n",
              "\n",
              "        const docLinkHtml = 'Like what you see? Visit the ' +\n",
              "          '<a target=\"_blank\" href=https://colab.research.google.com/notebooks/data_table.ipynb>data table notebook</a>'\n",
              "          + ' to learn more about interactive tables.';\n",
              "        element.innerHTML = '';\n",
              "        dataTable['output_type'] = 'display_data';\n",
              "        await google.colab.output.renderOutput(dataTable, element);\n",
              "        const docLink = document.createElement('div');\n",
              "        docLink.innerHTML = docLinkHtml;\n",
              "        element.appendChild(docLink);\n",
              "      }\n",
              "    </script>\n",
              "  </div>\n",
              "\n",
              "\n",
              "<div id=\"df-915fc444-3429-45f0-ac84-73f3252e14ca\">\n",
              "  <button class=\"colab-df-quickchart\" onclick=\"quickchart('df-915fc444-3429-45f0-ac84-73f3252e14ca')\"\n",
              "            title=\"Suggest charts\"\n",
              "            style=\"display:none;\">\n",
              "\n",
              "<svg xmlns=\"http://www.w3.org/2000/svg\" height=\"24px\"viewBox=\"0 0 24 24\"\n",
              "     width=\"24px\">\n",
              "    <g>\n",
              "        <path d=\"M19 3H5c-1.1 0-2 .9-2 2v14c0 1.1.9 2 2 2h14c1.1 0 2-.9 2-2V5c0-1.1-.9-2-2-2zM9 17H7v-7h2v7zm4 0h-2V7h2v10zm4 0h-2v-4h2v4z\"/>\n",
              "    </g>\n",
              "</svg>\n",
              "  </button>\n",
              "\n",
              "<style>\n",
              "  .colab-df-quickchart {\n",
              "      --bg-color: #E8F0FE;\n",
              "      --fill-color: #1967D2;\n",
              "      --hover-bg-color: #E2EBFA;\n",
              "      --hover-fill-color: #174EA6;\n",
              "      --disabled-fill-color: #AAA;\n",
              "      --disabled-bg-color: #DDD;\n",
              "  }\n",
              "\n",
              "  [theme=dark] .colab-df-quickchart {\n",
              "      --bg-color: #3B4455;\n",
              "      --fill-color: #D2E3FC;\n",
              "      --hover-bg-color: #434B5C;\n",
              "      --hover-fill-color: #FFFFFF;\n",
              "      --disabled-bg-color: #3B4455;\n",
              "      --disabled-fill-color: #666;\n",
              "  }\n",
              "\n",
              "  .colab-df-quickchart {\n",
              "    background-color: var(--bg-color);\n",
              "    border: none;\n",
              "    border-radius: 50%;\n",
              "    cursor: pointer;\n",
              "    display: none;\n",
              "    fill: var(--fill-color);\n",
              "    height: 32px;\n",
              "    padding: 0;\n",
              "    width: 32px;\n",
              "  }\n",
              "\n",
              "  .colab-df-quickchart:hover {\n",
              "    background-color: var(--hover-bg-color);\n",
              "    box-shadow: 0 1px 2px rgba(60, 64, 67, 0.3), 0 1px 3px 1px rgba(60, 64, 67, 0.15);\n",
              "    fill: var(--button-hover-fill-color);\n",
              "  }\n",
              "\n",
              "  .colab-df-quickchart-complete:disabled,\n",
              "  .colab-df-quickchart-complete:disabled:hover {\n",
              "    background-color: var(--disabled-bg-color);\n",
              "    fill: var(--disabled-fill-color);\n",
              "    box-shadow: none;\n",
              "  }\n",
              "\n",
              "  .colab-df-spinner {\n",
              "    border: 2px solid var(--fill-color);\n",
              "    border-color: transparent;\n",
              "    border-bottom-color: var(--fill-color);\n",
              "    animation:\n",
              "      spin 1s steps(1) infinite;\n",
              "  }\n",
              "\n",
              "  @keyframes spin {\n",
              "    0% {\n",
              "      border-color: transparent;\n",
              "      border-bottom-color: var(--fill-color);\n",
              "      border-left-color: var(--fill-color);\n",
              "    }\n",
              "    20% {\n",
              "      border-color: transparent;\n",
              "      border-left-color: var(--fill-color);\n",
              "      border-top-color: var(--fill-color);\n",
              "    }\n",
              "    30% {\n",
              "      border-color: transparent;\n",
              "      border-left-color: var(--fill-color);\n",
              "      border-top-color: var(--fill-color);\n",
              "      border-right-color: var(--fill-color);\n",
              "    }\n",
              "    40% {\n",
              "      border-color: transparent;\n",
              "      border-right-color: var(--fill-color);\n",
              "      border-top-color: var(--fill-color);\n",
              "    }\n",
              "    60% {\n",
              "      border-color: transparent;\n",
              "      border-right-color: var(--fill-color);\n",
              "    }\n",
              "    80% {\n",
              "      border-color: transparent;\n",
              "      border-right-color: var(--fill-color);\n",
              "      border-bottom-color: var(--fill-color);\n",
              "    }\n",
              "    90% {\n",
              "      border-color: transparent;\n",
              "      border-bottom-color: var(--fill-color);\n",
              "    }\n",
              "  }\n",
              "</style>\n",
              "\n",
              "  <script>\n",
              "    async function quickchart(key) {\n",
              "      const quickchartButtonEl =\n",
              "        document.querySelector('#' + key + ' button');\n",
              "      quickchartButtonEl.disabled = true;  // To prevent multiple clicks.\n",
              "      quickchartButtonEl.classList.add('colab-df-spinner');\n",
              "      try {\n",
              "        const charts = await google.colab.kernel.invokeFunction(\n",
              "            'suggestCharts', [key], {});\n",
              "      } catch (error) {\n",
              "        console.error('Error during call to suggestCharts:', error);\n",
              "      }\n",
              "      quickchartButtonEl.classList.remove('colab-df-spinner');\n",
              "      quickchartButtonEl.classList.add('colab-df-quickchart-complete');\n",
              "    }\n",
              "    (() => {\n",
              "      let quickchartButtonEl =\n",
              "        document.querySelector('#df-915fc444-3429-45f0-ac84-73f3252e14ca button');\n",
              "      quickchartButtonEl.style.display =\n",
              "        google.colab.kernel.accessAllowed ? 'block' : 'none';\n",
              "    })();\n",
              "  </script>\n",
              "</div>\n",
              "\n",
              "    </div>\n",
              "  </div>\n"
            ],
            "application/vnd.google.colaboratory.intrinsic+json": {
              "type": "dataframe",
              "variable_name": "df",
              "summary": "{\n  \"name\": \"df\",\n  \"rows\": 8523,\n  \"fields\": [\n    {\n      \"column\": \"Item_Identifier\",\n      \"properties\": {\n        \"dtype\": \"category\",\n        \"num_unique_values\": 1559,\n        \"samples\": [\n          \"FDY01\",\n          \"FDG05\",\n          \"NCJ29\"\n        ],\n        \"semantic_type\": \"\",\n        \"description\": \"\"\n      }\n    },\n    {\n      \"column\": \"Item_Weight\",\n      \"properties\": {\n        \"dtype\": \"number\",\n        \"std\": 4.643456499186415,\n        \"min\": 4.555,\n        \"max\": 21.35,\n        \"num_unique_values\": 415,\n        \"samples\": [\n          16.75,\n          8.695,\n          7.605\n        ],\n        \"semantic_type\": \"\",\n        \"description\": \"\"\n      }\n    },\n    {\n      \"column\": \"Item_Fat_Content\",\n      \"properties\": {\n        \"dtype\": \"category\",\n        \"num_unique_values\": 5,\n        \"samples\": [\n          \"Regular\",\n          \"reg\",\n          \"low fat\"\n        ],\n        \"semantic_type\": \"\",\n        \"description\": \"\"\n      }\n    },\n    {\n      \"column\": \"Item_Visibility\",\n      \"properties\": {\n        \"dtype\": \"number\",\n        \"std\": 0.05159782232113512,\n        \"min\": 0.0,\n        \"max\": 0.328390948,\n        \"num_unique_values\": 7880,\n        \"samples\": [\n          0.224837308,\n          0.046088273,\n          0.0204702\n        ],\n        \"semantic_type\": \"\",\n        \"description\": \"\"\n      }\n    },\n    {\n      \"column\": \"Item_Type\",\n      \"properties\": {\n        \"dtype\": \"category\",\n        \"num_unique_values\": 16,\n        \"samples\": [\n          \"Dairy\",\n          \"Soft Drinks\",\n          \"Baking Goods\"\n        ],\n        \"semantic_type\": \"\",\n        \"description\": \"\"\n      }\n    },\n    {\n      \"column\": \"Item_MRP\",\n      \"properties\": {\n        \"dtype\": \"number\",\n        \"std\": 62.27506651219046,\n        \"min\": 31.29,\n        \"max\": 266.8884,\n        \"num_unique_values\": 5938,\n        \"samples\": [\n          255.9672,\n          93.512,\n          208.3954\n        ],\n        \"semantic_type\": \"\",\n        \"description\": \"\"\n      }\n    },\n    {\n      \"column\": \"Outlet_Identifier\",\n      \"properties\": {\n        \"dtype\": \"category\",\n        \"num_unique_values\": 10,\n        \"samples\": [\n          \"OUT035\",\n          \"OUT018\",\n          \"OUT045\"\n        ],\n        \"semantic_type\": \"\",\n        \"description\": \"\"\n      }\n    },\n    {\n      \"column\": \"Outlet_Establishment_Year\",\n      \"properties\": {\n        \"dtype\": \"number\",\n        \"std\": 8,\n        \"min\": 1985,\n        \"max\": 2009,\n        \"num_unique_values\": 9,\n        \"samples\": [\n          1997,\n          2009,\n          2002\n        ],\n        \"semantic_type\": \"\",\n        \"description\": \"\"\n      }\n    },\n    {\n      \"column\": \"Outlet_Size\",\n      \"properties\": {\n        \"dtype\": \"category\",\n        \"num_unique_values\": 3,\n        \"samples\": [\n          \"Medium\",\n          \"High\",\n          \"Small\"\n        ],\n        \"semantic_type\": \"\",\n        \"description\": \"\"\n      }\n    },\n    {\n      \"column\": \"Outlet_Location_Type\",\n      \"properties\": {\n        \"dtype\": \"category\",\n        \"num_unique_values\": 3,\n        \"samples\": [\n          \"Tier 1\",\n          \"Tier 3\",\n          \"Tier 2\"\n        ],\n        \"semantic_type\": \"\",\n        \"description\": \"\"\n      }\n    },\n    {\n      \"column\": \"Outlet_Type\",\n      \"properties\": {\n        \"dtype\": \"category\",\n        \"num_unique_values\": 4,\n        \"samples\": [\n          \"Supermarket Type2\",\n          \"Supermarket Type3\",\n          \"Supermarket Type1\"\n        ],\n        \"semantic_type\": \"\",\n        \"description\": \"\"\n      }\n    },\n    {\n      \"column\": \"Item_Outlet_Sales\",\n      \"properties\": {\n        \"dtype\": \"number\",\n        \"std\": 1706.499615733833,\n        \"min\": 33.29,\n        \"max\": 13086.9648,\n        \"num_unique_values\": 3493,\n        \"samples\": [\n          5466.8838,\n          8417.7094,\n          5888.3352\n        ],\n        \"semantic_type\": \"\",\n        \"description\": \"\"\n      }\n    }\n  ]\n}"
            }
          },
          "metadata": {},
          "execution_count": 4
        }
      ]
    },
    {
      "cell_type": "code",
      "source": [
        "df.info()"
      ],
      "metadata": {
        "colab": {
          "base_uri": "https://localhost:8080/"
        },
        "id": "d93bXuJrufDf",
        "outputId": "5075c5c4-c64b-45a4-aa25-8d7f81c2180a"
      },
      "execution_count": 6,
      "outputs": [
        {
          "output_type": "stream",
          "name": "stdout",
          "text": [
            "<class 'pandas.core.frame.DataFrame'>\n",
            "RangeIndex: 8523 entries, 0 to 8522\n",
            "Data columns (total 12 columns):\n",
            " #   Column                     Non-Null Count  Dtype  \n",
            "---  ------                     --------------  -----  \n",
            " 0   Item_Identifier            8523 non-null   object \n",
            " 1   Item_Weight                7060 non-null   float64\n",
            " 2   Item_Fat_Content           8523 non-null   object \n",
            " 3   Item_Visibility            8523 non-null   float64\n",
            " 4   Item_Type                  8523 non-null   object \n",
            " 5   Item_MRP                   8523 non-null   float64\n",
            " 6   Outlet_Identifier          8523 non-null   object \n",
            " 7   Outlet_Establishment_Year  8523 non-null   int64  \n",
            " 8   Outlet_Size                6113 non-null   object \n",
            " 9   Outlet_Location_Type       8523 non-null   object \n",
            " 10  Outlet_Type                8523 non-null   object \n",
            " 11  Item_Outlet_Sales          8523 non-null   float64\n",
            "dtypes: float64(4), int64(1), object(7)\n",
            "memory usage: 799.2+ KB\n"
          ]
        }
      ]
    },
    {
      "cell_type": "code",
      "source": [
        "#Data Cleaning\n",
        "number_of_rows_and_columns=df.shape\n",
        "print(number_of_rows_and_columns)\n"
      ],
      "metadata": {
        "colab": {
          "base_uri": "https://localhost:8080/"
        },
        "id": "YYuHO8EKvImM",
        "outputId": "b55141d3-31b4-4e76-cb89-ee0a8a776841"
      },
      "execution_count": 7,
      "outputs": [
        {
          "output_type": "stream",
          "name": "stdout",
          "text": [
            "(8523, 12)\n"
          ]
        }
      ]
    },
    {
      "cell_type": "code",
      "source": [
        "DataFrame_datatypes=df.dtypes\n",
        "print(DataFrame_datatypes)"
      ],
      "metadata": {
        "colab": {
          "base_uri": "https://localhost:8080/"
        },
        "id": "a_2V1dESAHuB",
        "outputId": "d12de094-ee44-4b8d-b195-7018e2184f4d"
      },
      "execution_count": 8,
      "outputs": [
        {
          "output_type": "stream",
          "name": "stdout",
          "text": [
            "Item_Identifier               object\n",
            "Item_Weight                  float64\n",
            "Item_Fat_Content              object\n",
            "Item_Visibility              float64\n",
            "Item_Type                     object\n",
            "Item_MRP                     float64\n",
            "Outlet_Identifier             object\n",
            "Outlet_Establishment_Year      int64\n",
            "Outlet_Size                   object\n",
            "Outlet_Location_Type          object\n",
            "Outlet_Type                   object\n",
            "Item_Outlet_Sales            float64\n",
            "dtype: object\n"
          ]
        }
      ]
    },
    {
      "cell_type": "code",
      "source": [
        "clean_data=df.drop_duplicates()\n",
        "print(clean_data)\n",
        "\n"
      ],
      "metadata": {
        "colab": {
          "base_uri": "https://localhost:8080/"
        },
        "id": "1Q3GPjGOFnWR",
        "outputId": "74bbb93d-6681-4996-b13a-58877652435b"
      },
      "execution_count": 9,
      "outputs": [
        {
          "output_type": "stream",
          "name": "stdout",
          "text": [
            "     Item_Identifier  Item_Weight Item_Fat_Content  Item_Visibility  \\\n",
            "0              FDA15        9.300          Low Fat         0.016047   \n",
            "1              DRC01        5.920          Regular         0.019278   \n",
            "2              FDN15       17.500          Low Fat         0.016760   \n",
            "3              FDX07       19.200          Regular         0.000000   \n",
            "4              NCD19        8.930          Low Fat         0.000000   \n",
            "...              ...          ...              ...              ...   \n",
            "8518           FDF22        6.865          Low Fat         0.056783   \n",
            "8519           FDS36        8.380          Regular         0.046982   \n",
            "8520           NCJ29       10.600          Low Fat         0.035186   \n",
            "8521           FDN46        7.210          Regular         0.145221   \n",
            "8522           DRG01       14.800          Low Fat         0.044878   \n",
            "\n",
            "                  Item_Type  Item_MRP Outlet_Identifier  \\\n",
            "0                     Dairy  249.8092            OUT049   \n",
            "1               Soft Drinks   48.2692            OUT018   \n",
            "2                      Meat  141.6180            OUT049   \n",
            "3     Fruits and Vegetables  182.0950            OUT010   \n",
            "4                 Household   53.8614            OUT013   \n",
            "...                     ...       ...               ...   \n",
            "8518            Snack Foods  214.5218            OUT013   \n",
            "8519           Baking Goods  108.1570            OUT045   \n",
            "8520     Health and Hygiene   85.1224            OUT035   \n",
            "8521            Snack Foods  103.1332            OUT018   \n",
            "8522            Soft Drinks   75.4670            OUT046   \n",
            "\n",
            "      Outlet_Establishment_Year Outlet_Size Outlet_Location_Type  \\\n",
            "0                          1999      Medium               Tier 1   \n",
            "1                          2009      Medium               Tier 3   \n",
            "2                          1999      Medium               Tier 1   \n",
            "3                          1998         NaN               Tier 3   \n",
            "4                          1987        High               Tier 3   \n",
            "...                         ...         ...                  ...   \n",
            "8518                       1987        High               Tier 3   \n",
            "8519                       2002         NaN               Tier 2   \n",
            "8520                       2004       Small               Tier 2   \n",
            "8521                       2009      Medium               Tier 3   \n",
            "8522                       1997       Small               Tier 1   \n",
            "\n",
            "            Outlet_Type  Item_Outlet_Sales  \n",
            "0     Supermarket Type1          3735.1380  \n",
            "1     Supermarket Type2           443.4228  \n",
            "2     Supermarket Type1          2097.2700  \n",
            "3         Grocery Store           732.3800  \n",
            "4     Supermarket Type1           994.7052  \n",
            "...                 ...                ...  \n",
            "8518  Supermarket Type1          2778.3834  \n",
            "8519  Supermarket Type1           549.2850  \n",
            "8520  Supermarket Type1          1193.1136  \n",
            "8521  Supermarket Type2          1845.5976  \n",
            "8522  Supermarket Type1           765.6700  \n",
            "\n",
            "[8523 rows x 12 columns]\n"
          ]
        }
      ]
    },
    {
      "cell_type": "code",
      "source": [
        "check_for_missing_values=df.isnull().values.any()\n",
        "print(check_for_missing_values)"
      ],
      "metadata": {
        "colab": {
          "base_uri": "https://localhost:8080/"
        },
        "id": "OhmwcdWUGKtK",
        "outputId": "dcecdd1e-7153-4657-bf9d-0f597a5fd74a"
      },
      "execution_count": 10,
      "outputs": [
        {
          "output_type": "stream",
          "name": "stdout",
          "text": [
            "True\n"
          ]
        }
      ]
    },
    {
      "cell_type": "code",
      "source": [
        "missing_values=df.isnull()\n",
        "print(missing_values)"
      ],
      "metadata": {
        "colab": {
          "base_uri": "https://localhost:8080/"
        },
        "id": "p3Z_UssSIeLM",
        "outputId": "d4841966-5169-4038-c55f-3e872ada351a"
      },
      "execution_count": 11,
      "outputs": [
        {
          "output_type": "stream",
          "name": "stdout",
          "text": [
            "      Item_Identifier  Item_Weight  Item_Fat_Content  Item_Visibility  \\\n",
            "0               False        False             False            False   \n",
            "1               False        False             False            False   \n",
            "2               False        False             False            False   \n",
            "3               False        False             False            False   \n",
            "4               False        False             False            False   \n",
            "...               ...          ...               ...              ...   \n",
            "8518            False        False             False            False   \n",
            "8519            False        False             False            False   \n",
            "8520            False        False             False            False   \n",
            "8521            False        False             False            False   \n",
            "8522            False        False             False            False   \n",
            "\n",
            "      Item_Type  Item_MRP  Outlet_Identifier  Outlet_Establishment_Year  \\\n",
            "0         False     False              False                      False   \n",
            "1         False     False              False                      False   \n",
            "2         False     False              False                      False   \n",
            "3         False     False              False                      False   \n",
            "4         False     False              False                      False   \n",
            "...         ...       ...                ...                        ...   \n",
            "8518      False     False              False                      False   \n",
            "8519      False     False              False                      False   \n",
            "8520      False     False              False                      False   \n",
            "8521      False     False              False                      False   \n",
            "8522      False     False              False                      False   \n",
            "\n",
            "      Outlet_Size  Outlet_Location_Type  Outlet_Type  Item_Outlet_Sales  \n",
            "0           False                 False        False              False  \n",
            "1           False                 False        False              False  \n",
            "2           False                 False        False              False  \n",
            "3            True                 False        False              False  \n",
            "4           False                 False        False              False  \n",
            "...           ...                   ...          ...                ...  \n",
            "8518        False                 False        False              False  \n",
            "8519         True                 False        False              False  \n",
            "8520        False                 False        False              False  \n",
            "8521        False                 False        False              False  \n",
            "8522        False                 False        False              False  \n",
            "\n",
            "[8523 rows x 12 columns]\n"
          ]
        }
      ]
    },
    {
      "cell_type": "code",
      "source": [
        "filling_missing_values=df.fillna(method='pad')\n",
        "print(filling_missing_values)"
      ],
      "metadata": {
        "colab": {
          "base_uri": "https://localhost:8080/"
        },
        "id": "voz3DlBHfmo0",
        "outputId": "7572644e-c15f-48da-c0d4-96e310b73530"
      },
      "execution_count": 12,
      "outputs": [
        {
          "output_type": "stream",
          "name": "stdout",
          "text": [
            "     Item_Identifier  Item_Weight Item_Fat_Content  Item_Visibility  \\\n",
            "0              FDA15        9.300          Low Fat         0.016047   \n",
            "1              DRC01        5.920          Regular         0.019278   \n",
            "2              FDN15       17.500          Low Fat         0.016760   \n",
            "3              FDX07       19.200          Regular         0.000000   \n",
            "4              NCD19        8.930          Low Fat         0.000000   \n",
            "...              ...          ...              ...              ...   \n",
            "8518           FDF22        6.865          Low Fat         0.056783   \n",
            "8519           FDS36        8.380          Regular         0.046982   \n",
            "8520           NCJ29       10.600          Low Fat         0.035186   \n",
            "8521           FDN46        7.210          Regular         0.145221   \n",
            "8522           DRG01       14.800          Low Fat         0.044878   \n",
            "\n",
            "                  Item_Type  Item_MRP Outlet_Identifier  \\\n",
            "0                     Dairy  249.8092            OUT049   \n",
            "1               Soft Drinks   48.2692            OUT018   \n",
            "2                      Meat  141.6180            OUT049   \n",
            "3     Fruits and Vegetables  182.0950            OUT010   \n",
            "4                 Household   53.8614            OUT013   \n",
            "...                     ...       ...               ...   \n",
            "8518            Snack Foods  214.5218            OUT013   \n",
            "8519           Baking Goods  108.1570            OUT045   \n",
            "8520     Health and Hygiene   85.1224            OUT035   \n",
            "8521            Snack Foods  103.1332            OUT018   \n",
            "8522            Soft Drinks   75.4670            OUT046   \n",
            "\n",
            "      Outlet_Establishment_Year Outlet_Size Outlet_Location_Type  \\\n",
            "0                          1999      Medium               Tier 1   \n",
            "1                          2009      Medium               Tier 3   \n",
            "2                          1999      Medium               Tier 1   \n",
            "3                          1998      Medium               Tier 3   \n",
            "4                          1987        High               Tier 3   \n",
            "...                         ...         ...                  ...   \n",
            "8518                       1987        High               Tier 3   \n",
            "8519                       2002        High               Tier 2   \n",
            "8520                       2004       Small               Tier 2   \n",
            "8521                       2009      Medium               Tier 3   \n",
            "8522                       1997       Small               Tier 1   \n",
            "\n",
            "            Outlet_Type  Item_Outlet_Sales  \n",
            "0     Supermarket Type1          3735.1380  \n",
            "1     Supermarket Type2           443.4228  \n",
            "2     Supermarket Type1          2097.2700  \n",
            "3         Grocery Store           732.3800  \n",
            "4     Supermarket Type1           994.7052  \n",
            "...                 ...                ...  \n",
            "8518  Supermarket Type1          2778.3834  \n",
            "8519  Supermarket Type1           549.2850  \n",
            "8520  Supermarket Type1          1193.1136  \n",
            "8521  Supermarket Type2          1845.5976  \n",
            "8522  Supermarket Type1           765.6700  \n",
            "\n",
            "[8523 rows x 12 columns]\n"
          ]
        }
      ]
    },
    {
      "cell_type": "code",
      "source": [
        "to_confirm_if_there_are_no_missing_values=filling_missing_values.isnull().values.any()\n",
        "print(to_confirm_if_there_are_no_missing_values)"
      ],
      "metadata": {
        "colab": {
          "base_uri": "https://localhost:8080/"
        },
        "id": "8FtEXIBpjEFs",
        "outputId": "2fbc6fd9-ff80-4138-8ebc-33178f79f4fd"
      },
      "execution_count": 13,
      "outputs": [
        {
          "output_type": "stream",
          "name": "stdout",
          "text": [
            "False\n"
          ]
        }
      ]
    },
    {
      "cell_type": "markdown",
      "source": [],
      "metadata": {
        "id": "AeAW9acboTNk"
      }
    },
    {
      "cell_type": "code",
      "source": [
        "dataframe_min=filling_missing_values.min()\n",
        "print(dataframe_min)\n"
      ],
      "metadata": {
        "colab": {
          "base_uri": "https://localhost:8080/"
        },
        "id": "H5PQOSb1lRCW",
        "outputId": "280570e8-76c4-4d46-80e3-1fd025056c29"
      },
      "execution_count": 14,
      "outputs": [
        {
          "output_type": "stream",
          "name": "stdout",
          "text": [
            "Item_Identifier                      DRA12\n",
            "Item_Weight                          4.555\n",
            "Item_Fat_Content                        LF\n",
            "Item_Visibility                        0.0\n",
            "Item_Type                     Baking Goods\n",
            "Item_MRP                             31.29\n",
            "Outlet_Identifier                   OUT010\n",
            "Outlet_Establishment_Year             1985\n",
            "Outlet_Size                           High\n",
            "Outlet_Location_Type                Tier 1\n",
            "Outlet_Type                  Grocery Store\n",
            "Item_Outlet_Sales                    33.29\n",
            "dtype: object\n"
          ]
        }
      ]
    },
    {
      "cell_type": "code",
      "source": [
        "dataframe_max=filling_missing_values.max()\n",
        "print(dataframe_max)"
      ],
      "metadata": {
        "colab": {
          "base_uri": "https://localhost:8080/"
        },
        "id": "Yk0kxI5eqMoI",
        "outputId": "7fac78eb-b914-4ab7-b543-07a9d0a575b2"
      },
      "execution_count": null,
      "outputs": [
        {
          "output_type": "stream",
          "name": "stdout",
          "text": [
            "Item_Identifier                          NCZ54\n",
            "Item_Weight                              21.35\n",
            "Item_Fat_Content                           reg\n",
            "Item_Visibility                       0.328391\n",
            "Item_Type                        Starchy Foods\n",
            "Item_MRP                              266.8884\n",
            "Outlet_Identifier                       OUT049\n",
            "Outlet_Establishment_Year                 2009\n",
            "Outlet_Size                              Small\n",
            "Outlet_Location_Type                    Tier 3\n",
            "Outlet_Type                  Supermarket Type3\n",
            "Item_Outlet_Sales                   13086.9648\n",
            "dtype: object\n"
          ]
        }
      ]
    },
    {
      "cell_type": "code",
      "source": [
        "dataframe_mean=filling_missing_values.mean()\n",
        "print(dataframe_mean)"
      ],
      "metadata": {
        "colab": {
          "base_uri": "https://localhost:8080/"
        },
        "id": "MbOoGNPbqUda",
        "outputId": "72ae4875-dd9c-475e-faaa-401d67e8295c"
      },
      "execution_count": 15,
      "outputs": [
        {
          "output_type": "stream",
          "name": "stdout",
          "text": [
            "Item_Weight                    12.849649\n",
            "Item_Visibility                 0.066132\n",
            "Item_MRP                      140.992782\n",
            "Outlet_Establishment_Year    1997.831867\n",
            "Item_Outlet_Sales            2181.288914\n",
            "dtype: float64\n"
          ]
        },
        {
          "output_type": "stream",
          "name": "stderr",
          "text": [
            "<ipython-input-15-22140244e946>:1: FutureWarning: The default value of numeric_only in DataFrame.mean is deprecated. In a future version, it will default to False. In addition, specifying 'numeric_only=None' is deprecated. Select only valid columns or specify the value of numeric_only to silence this warning.\n",
            "  dataframe_mean=filling_missing_values.mean()\n"
          ]
        }
      ]
    },
    {
      "cell_type": "code",
      "source": [
        "columns = df.columns\n",
        "print(columns)"
      ],
      "metadata": {
        "id": "Ps__60tpUeyD",
        "outputId": "cb47cd8c-4563-4a3e-ba66-e0d7196c1924",
        "colab": {
          "base_uri": "https://localhost:8080/"
        }
      },
      "execution_count": 16,
      "outputs": [
        {
          "output_type": "stream",
          "name": "stdout",
          "text": [
            "Index(['Item_Identifier', 'Item_Weight', 'Item_Fat_Content', 'Item_Visibility',\n",
            "       'Item_Type', 'Item_MRP', 'Outlet_Identifier',\n",
            "       'Outlet_Establishment_Year', 'Outlet_Size', 'Outlet_Location_Type',\n",
            "       'Outlet_Type', 'Item_Outlet_Sales'],\n",
            "      dtype='object')\n"
          ]
        }
      ]
    },
    {
      "cell_type": "code",
      "source": [
        "#remove placeholders\n",
        "for column in df.columns:\n",
        "    df[column] = df[column].replace('placeholders', None)\n",
        "    print(df[column])"
      ],
      "metadata": {
        "id": "LUV795SHUovg",
        "outputId": "da0424b3-7967-4e66-a50f-9bdc18172019",
        "colab": {
          "base_uri": "https://localhost:8080/"
        }
      },
      "execution_count": 17,
      "outputs": [
        {
          "output_type": "stream",
          "name": "stdout",
          "text": [
            "0       FDA15\n",
            "1       DRC01\n",
            "2       FDN15\n",
            "3       FDX07\n",
            "4       NCD19\n",
            "        ...  \n",
            "8518    FDF22\n",
            "8519    FDS36\n",
            "8520    NCJ29\n",
            "8521    FDN46\n",
            "8522    DRG01\n",
            "Name: Item_Identifier, Length: 8523, dtype: object\n",
            "0        9.300\n",
            "1        5.920\n",
            "2       17.500\n",
            "3       19.200\n",
            "4        8.930\n",
            "         ...  \n",
            "8518     6.865\n",
            "8519     8.380\n",
            "8520    10.600\n",
            "8521     7.210\n",
            "8522    14.800\n",
            "Name: Item_Weight, Length: 8523, dtype: float64\n",
            "0       Low Fat\n",
            "1       Regular\n",
            "2       Low Fat\n",
            "3       Regular\n",
            "4       Low Fat\n",
            "         ...   \n",
            "8518    Low Fat\n",
            "8519    Regular\n",
            "8520    Low Fat\n",
            "8521    Regular\n",
            "8522    Low Fat\n",
            "Name: Item_Fat_Content, Length: 8523, dtype: object\n",
            "0       0.016047\n",
            "1       0.019278\n",
            "2       0.016760\n",
            "3       0.000000\n",
            "4       0.000000\n",
            "          ...   \n",
            "8518    0.056783\n",
            "8519    0.046982\n",
            "8520    0.035186\n",
            "8521    0.145221\n",
            "8522    0.044878\n",
            "Name: Item_Visibility, Length: 8523, dtype: float64\n",
            "0                       Dairy\n",
            "1                 Soft Drinks\n",
            "2                        Meat\n",
            "3       Fruits and Vegetables\n",
            "4                   Household\n",
            "                ...          \n",
            "8518              Snack Foods\n",
            "8519             Baking Goods\n",
            "8520       Health and Hygiene\n",
            "8521              Snack Foods\n",
            "8522              Soft Drinks\n",
            "Name: Item_Type, Length: 8523, dtype: object\n",
            "0       249.8092\n",
            "1        48.2692\n",
            "2       141.6180\n",
            "3       182.0950\n",
            "4        53.8614\n",
            "          ...   \n",
            "8518    214.5218\n",
            "8519    108.1570\n",
            "8520     85.1224\n",
            "8521    103.1332\n",
            "8522     75.4670\n",
            "Name: Item_MRP, Length: 8523, dtype: float64\n",
            "0       OUT049\n",
            "1       OUT018\n",
            "2       OUT049\n",
            "3       OUT010\n",
            "4       OUT013\n",
            "         ...  \n",
            "8518    OUT013\n",
            "8519    OUT045\n",
            "8520    OUT035\n",
            "8521    OUT018\n",
            "8522    OUT046\n",
            "Name: Outlet_Identifier, Length: 8523, dtype: object\n",
            "0       1999\n",
            "1       2009\n",
            "2       1999\n",
            "3       1998\n",
            "4       1987\n",
            "        ... \n",
            "8518    1987\n",
            "8519    2002\n",
            "8520    2004\n",
            "8521    2009\n",
            "8522    1997\n",
            "Name: Outlet_Establishment_Year, Length: 8523, dtype: int64\n",
            "0       Medium\n",
            "1       Medium\n",
            "2       Medium\n",
            "3          NaN\n",
            "4         High\n",
            "         ...  \n",
            "8518      High\n",
            "8519       NaN\n",
            "8520     Small\n",
            "8521    Medium\n",
            "8522     Small\n",
            "Name: Outlet_Size, Length: 8523, dtype: object\n",
            "0       Tier 1\n",
            "1       Tier 3\n",
            "2       Tier 1\n",
            "3       Tier 3\n",
            "4       Tier 3\n",
            "         ...  \n",
            "8518    Tier 3\n",
            "8519    Tier 2\n",
            "8520    Tier 2\n",
            "8521    Tier 3\n",
            "8522    Tier 1\n",
            "Name: Outlet_Location_Type, Length: 8523, dtype: object\n",
            "0       Supermarket Type1\n",
            "1       Supermarket Type2\n",
            "2       Supermarket Type1\n",
            "3           Grocery Store\n",
            "4       Supermarket Type1\n",
            "              ...        \n",
            "8518    Supermarket Type1\n",
            "8519    Supermarket Type1\n",
            "8520    Supermarket Type1\n",
            "8521    Supermarket Type2\n",
            "8522    Supermarket Type1\n",
            "Name: Outlet_Type, Length: 8523, dtype: object\n",
            "0       3735.1380\n",
            "1        443.4228\n",
            "2       2097.2700\n",
            "3        732.3800\n",
            "4        994.7052\n",
            "          ...    \n",
            "8518    2778.3834\n",
            "8519     549.2850\n",
            "8520    1193.1136\n",
            "8521    1845.5976\n",
            "8522     765.6700\n",
            "Name: Item_Outlet_Sales, Length: 8523, dtype: float64\n"
          ]
        }
      ]
    },
    {
      "cell_type": "markdown",
      "source": [
        "# Item Identifier  \n",
        "### Product ID"
      ],
      "metadata": {
        "id": "-CDRd-egaG_8"
      }
    },
    {
      "cell_type": "markdown",
      "source": [
        "# Item_Weight\n",
        "### Weight of product"
      ],
      "metadata": {
        "id": "4x82WBfGbiZk"
      }
    },
    {
      "cell_type": "markdown",
      "source": [
        "# Item_Fat_Content\n",
        "Whether the product is low-fat or regular"
      ],
      "metadata": {
        "id": "vyrHAJRKbwOQ"
      }
    },
    {
      "cell_type": "markdown",
      "source": [
        "# Item_Type\n",
        "### The category to which the product belongs"
      ],
      "metadata": {
        "id": "kLr1dmDsexBr"
      }
    },
    {
      "cell_type": "markdown",
      "source": [
        "# Item_Visibility\n",
        "### The percentage of total display area of all products in a store allocated to the particular product"
      ],
      "metadata": {
        "id": "CRE49Duyb-1v"
      }
    },
    {
      "cell_type": "markdown",
      "source": [],
      "metadata": {
        "id": "HgfBsK8rcR7R"
      }
    },
    {
      "cell_type": "markdown",
      "source": [
        "\n",
        "# Item_MRP\n",
        "### Maximum Retail Price (list price) of the product\n",
        "\n",
        "\n",
        "\n",
        "\n",
        "\n",
        "# Item_Outlet_Sales\n",
        "### Sales of the product in the particular store. This is the target variable to be predicted."
      ],
      "metadata": {
        "id": "mwAdfXMTcim9"
      }
    },
    {
      "cell_type": "markdown",
      "source": [
        "# Outlet_Establishment_Year\n",
        "### The year in which store was established\n"
      ],
      "metadata": {
        "id": "11ln2-vLd5RD"
      }
    },
    {
      "cell_type": "markdown",
      "source": [
        "# Outlet_Size\n",
        "### The size of the store in terms of ground area covered\n"
      ],
      "metadata": {
        "id": "Uu1RmHYdeApS"
      }
    },
    {
      "cell_type": "markdown",
      "source": [
        "# Outlet_Establishment_Year\n",
        "### The year in which store was established"
      ],
      "metadata": {
        "id": "7VDLwYHUdu82"
      }
    },
    {
      "cell_type": "markdown",
      "source": [
        "#Outlet_Identifier\n",
        "### Store ID\n"
      ],
      "metadata": {
        "id": "ivq4JV0wdW3d"
      }
    },
    {
      "cell_type": "markdown",
      "source": [
        "# Outlet_Location_Type\n",
        "### The type of area in which the store is located"
      ],
      "metadata": {
        "id": "Yz0VfthUeLHN"
      }
    },
    {
      "cell_type": "markdown",
      "source": [
        "# Outlet_Type\n",
        "### Whether the outlet is a grocery store or some sort of supermarket"
      ],
      "metadata": {
        "id": "Fe87OEImeNd7"
      }
    },
    {
      "cell_type": "code",
      "source": [
        "plt.hist(df['Item_Weight'].dropna(), bins=20, color='skyblue', edgecolor='black')\n",
        "plt.xlabel('Item Weight')\n",
        "plt.ylabel('Frequency')\n",
        "plt.title('Distribution of Item Weights')\n",
        "plt.show()"
      ],
      "metadata": {
        "colab": {
          "base_uri": "https://localhost:8080/",
          "height": 472
        },
        "id": "fXwCN5B5gQUT",
        "outputId": "9b8cb812-6478-4760-f7a5-31fbbaaebc0c"
      },
      "execution_count": 67,
      "outputs": [
        {
          "output_type": "display_data",
          "data": {
            "text/plain": [
              "<Figure size 640x480 with 1 Axes>"
            ],
            "image/png": "[encoded data removed]"
          },
          "metadata": {}
        }
      ]
    },
    {
      "cell_type": "code",
      "source": [
        "#What type of feature is it? (Categorical (nominal), ordinal, numeric)"
      ],
      "metadata": {
        "id": "0v0nOfjH9BkV"
      },
      "execution_count": 68,
      "outputs": []
    },
    {
      "cell_type": "markdown",
      "source": [
        "\n",
        "\n",
        "Item weight is numeric feature representing the weight of items.\n"
      ],
      "metadata": {
        "id": "3yX-Iywd8rdD"
      }
    },
    {
      "cell_type": "code",
      "source": [
        "# Calculate the number of null values\n",
        "number_of_null_values = df['Item_Weight'].isnull().sum()\n",
        "\n",
        "# Calculate the percentage of null values\n",
        "percentage_of_null_values = (number_of_null_values / len(df)) * 100\n",
        "\n",
        "print(\"Number of null values:\", number_of_null_values)\n",
        "print(\"Percentage of null values:\", percentage_of_null_values)"
      ],
      "metadata": {
        "colab": {
          "base_uri": "https://localhost:8080/"
        },
        "id": "6KPxiPTH9OJv",
        "outputId": "fa9f1174-ec72-42e3-c292-c8bf870839fd"
      },
      "execution_count": 69,
      "outputs": [
        {
          "output_type": "stream",
          "name": "stdout",
          "text": [
            "Number of null values: 0\n",
            "Percentage of null values: 0.0\n"
          ]
        }
      ]
    },
    {
      "cell_type": "code",
      "source": [
        "#imputing for Item_Weight by calculating mean\n",
        "mean_of_Item_Weight=df['Item_Weight'].mean()\n",
        "print(mean_of_Item_Weight)\n"
      ],
      "metadata": {
        "colab": {
          "base_uri": "https://localhost:8080/"
        },
        "id": "AbJV166tEgx7",
        "outputId": "f9ed1e0b-da88-470a-f353-5e16027b1b64"
      },
      "execution_count": 47,
      "outputs": [
        {
          "output_type": "stream",
          "name": "stdout",
          "text": [
            "12.857645184135976\n"
          ]
        }
      ]
    },
    {
      "cell_type": "code",
      "source": [
        "# Convert the \"Item_Weight\" column to numeric\n",
        "df['Item_Weight'] = pd.to_numeric(df['Item_Weight'], errors='coerce')\n",
        "print(df['Item_Weight'])\n",
        "\n",
        "# Calculate the mean of non-null values in the \"Item_Weight\" column\n",
        "mean_item_weight = df['Item_Weight'].mean()\n",
        "print(mean_item_weight)\n"
      ],
      "metadata": {
        "colab": {
          "base_uri": "https://localhost:8080/"
        },
        "id": "KvO_Qh6IDHHO",
        "outputId": "839c055b-0dfe-469f-f53e-837d22f7e31f"
      },
      "execution_count": 56,
      "outputs": [
        {
          "output_type": "stream",
          "name": "stdout",
          "text": [
            "0        9.300\n",
            "1        5.920\n",
            "2       17.500\n",
            "3       19.200\n",
            "4        8.930\n",
            "         ...  \n",
            "8518     6.865\n",
            "8519     8.380\n",
            "8520    10.600\n",
            "8521     7.210\n",
            "8522    14.800\n",
            "Name: Item_Weight, Length: 8523, dtype: float64\n",
            "12.857645184135976\n"
          ]
        }
      ]
    },
    {
      "cell_type": "code",
      "source": [
        "# Impute null values in the \"Item_Weight\" column with the mean\n",
        "imputing_null_values_with_mean=df['Item_Weight'].fillna(mean_item_weight, inplace=True)\n",
        "print(imputing_null_values_with_mean)\n"
      ],
      "metadata": {
        "colab": {
          "base_uri": "https://localhost:8080/"
        },
        "id": "erw5gFeOJG3Q",
        "outputId": "c2445d0c-21c4-41e7-a3e8-2304da2db32e"
      },
      "execution_count": 59,
      "outputs": [
        {
          "output_type": "stream",
          "name": "stdout",
          "text": [
            "None\n"
          ]
        }
      ]
    },
    {
      "cell_type": "code",
      "source": [
        "# Check the number of null values after replacing\n",
        "number_of_null_values_after = df['Item_Weight'].isnull().sum()\n",
        "print(\"Number of null values after imputation:\", number_of_null_values_after)"
      ],
      "metadata": {
        "colab": {
          "base_uri": "https://localhost:8080/"
        },
        "id": "5HGWjGYJJ7GV",
        "outputId": "6f38ed8c-67bf-48f7-d275-552d192b6858"
      },
      "execution_count": 60,
      "outputs": [
        {
          "output_type": "stream",
          "name": "stdout",
          "text": [
            "Number of null values after imputation: 0\n"
          ]
        }
      ]
    },
    {
      "cell_type": "code",
      "source": [
        "#checking whether the variance value is constant or quasi constant.\n",
        "variance_item_weight = df['Item_Weight'].var()\n",
        "print(\"Variance of Item_Weight feature:\", variance_item_weight)\n"
      ],
      "metadata": {
        "colab": {
          "base_uri": "https://localhost:8080/"
        },
        "id": "8gYMziadKUmm",
        "outputId": "f529c8cf-1528-4c92-9b97-7170e756274f"
      },
      "execution_count": 62,
      "outputs": [
        {
          "output_type": "stream",
          "name": "stdout",
          "text": [
            "Variance of Item_Weight feature: 17.86012173506058\n"
          ]
        }
      ]
    },
    {
      "cell_type": "markdown",
      "source": [
        "The variance value is greater than zero and so it indicates that there is a noticeable amount of variability among the item weights.\n",
        "And therefore it is neither constant because it's variance values are not zero and neither is it quasi constant because the variance values are not close to zero."
      ],
      "metadata": {
        "id": "VIN9B_BWLnFQ"
      }
    },
    {
      "cell_type": "code",
      "source": [
        "#checking for the cardinality\n",
        "cardinality_for_Item_Weight=df['Item_Weight'].nunique()\n",
        "print(\"cardinality for Item_Weight\", cardinality_for_Item_Weight)"
      ],
      "metadata": {
        "colab": {
          "base_uri": "https://localhost:8080/"
        },
        "id": "h0-LnCvoM-Qz",
        "outputId": "8dcad48f-9e21-4afd-f875-c65ad49b0cbf"
      },
      "execution_count": 63,
      "outputs": [
        {
          "output_type": "stream",
          "name": "stdout",
          "text": [
            "cardinality for Item_Weight 416\n"
          ]
        }
      ]
    },
    {
      "cell_type": "markdown",
      "source": [
        "Well,Item_Weight has a high cardinality because its nunique values are higher than 10."
      ],
      "metadata": {
        "id": "0LhNwQNnOLx7"
      }
    },
    {
      "cell_type": "markdown",
      "source": [
        "##Would we know this feature before the target is determined?"
      ],
      "metadata": {
        "id": "kZ9dArbhRfpD"
      }
    },
    {
      "cell_type": "markdown",
      "source": [
        "\n",
        "Yes we would know this feature before determining the target because the values were recorded.\n"
      ],
      "metadata": {
        "id": "PlCg7p11QoFt"
      }
    },
    {
      "cell_type": "markdown",
      "source": [
        "### Is there a business case/understanding reason to exclude based on our business case?\n",
        "\n",
        "Based on the business case,Item Weight should not be excluded because of its relevance to the analysis and its correlation with other features.\n",
        "Forexample from the dataset,we see that Item Weight determines Item Fat Content so its relevant and so it should not be excluded."
      ],
      "metadata": {
        "id": "uQmIHe_CScnE"
      }
    },
    {
      "cell_type": "code",
      "source": [
        "df.columns"
      ],
      "metadata": {
        "colab": {
          "base_uri": "https://localhost:8080/"
        },
        "id": "jkQv6uwXYHj9",
        "outputId": "673f9d05-998d-4064-a70c-55931e675195"
      },
      "execution_count": 73,
      "outputs": [
        {
          "output_type": "execute_result",
          "data": {
            "text/plain": [
              "Index(['Item_Identifier', 'Item_Weight', 'Item_Fat_Content', 'Item_Visibility',\n",
              "       'Item_Type', 'Item_MRP', 'Outlet_Identifier',\n",
              "       'Outlet_Establishment_Year', 'Outlet_Size', 'Outlet_Location_Type',\n",
              "       'Outlet_Type', 'Item_Outlet_Sales'],\n",
              "      dtype='object')"
            ]
          },
          "metadata": {},
          "execution_count": 73
        }
      ]
    },
    {
      "cell_type": "code",
      "source": [
        "# Create a line plot of Item_Type vs. Item_Outlet_Sales\n",
        "plt.figure(figsize=(12, 8))\n",
        "sns.lineplot(data=df, x='Item_Type', y='Item_Outlet_Sales')\n",
        "plt.title('Item Type vs. Item Outlet Sales')\n",
        "plt.xlabel('Item Type')\n",
        "plt.ylabel('Item Outlet Sales')\n",
        "plt.xticks(rotation=45, ha='right')  # Rotate x-axis labels for better readability\n",
        "plt.show()\n",
        "\n",
        ""
      ],
      "metadata": {
        "colab": {
          "base_uri": "https://localhost:8080/",
          "height": 839
        },
        "id": "zwvd2Kf-VKLo",
        "outputId": "8cc0d7da-9023-44b0-c7db-ba429a8c15a6"
      },
      "execution_count": 78,
      "outputs": [
        {
          "output_type": "display_data",
          "data": {
            "text/plain": [
              "<Figure size 1200x800 with 1 Axes>"
            ],
            "image/png": "[encoded data removed]"
          },
          "metadata": {}
        }
      ]
    },
    {
      "cell_type": "code",
      "source": [
        "#create a box plot of Outlet size vs Item_Outlet_Sales\n",
        "plt.figure(figsize=(12, 8))\n",
        "sns.boxplot(data=df, x='Item_Fat_Content', y='Item_Outlet_Sales')\n",
        "plt.title('Item_Fat_Content vs. Item Outlet Sales')\n",
        "plt.xlabel('Item_Fat_Content')\n",
        "plt.ylabel('Item Outlet Sales')\n",
        "plt.xticks(rotation=45, ha='right')  # Rotate x-axis labels for better readability\n",
        "plt.show()\n"
      ],
      "metadata": {
        "colab": {
          "base_uri": "https://localhost:8080/",
          "height": 764
        },
        "id": "3K6IOjqkaFqT",
        "outputId": "430f2507-6626-4bb1-e2e5-a37bd3af9870"
      },
      "execution_count": 81,
      "outputs": [
        {
          "output_type": "display_data",
          "data": {
            "text/plain": [
              "<Figure size 1200x800 with 1 Axes>"
            ],
            "image/png": "[encoded data removed]"
          },
          "metadata": {}
        }
      ]
    },
    {
      "cell_type": "markdown",
      "source": [
        "### Based on your business understanding, would you expect this feature to be a predictor of the target?\n",
        "### Does this feature appear to be a predictor of the target?\n",
        "\n",
        "certain Item types forexample Starchy foods are popular and have a higher demand, leading to higher sales figures.\n",
        "\n",
        "Based on the line plot in the visualisation above,Item type has a positive correlation with Item Outlet Sales.\n",
        "There is a significant variability in Item Outlet sales across different item types, which suggests that Item_Type may be a meaningful predictor of sales.\n",
        "\n",
        "\n",
        "\n",
        "\n",
        "\n",
        "\n"
      ],
      "metadata": {
        "id": "cPThR5zWbmQ7"
      }
    }
  ]
}