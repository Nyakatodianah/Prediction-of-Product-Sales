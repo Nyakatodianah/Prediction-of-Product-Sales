{
  "nbformat": 4,
  "nbformat_minor": 0,
  "metadata": {
    "colab": {
      "provenance": [],
      "authorship_tag": "ABX9TyOxCwy+OIZsMvW7Up9o2+d+",
      "include_colab_link": true
    },
    "kernelspec": {
      "name": "python3",
      "display_name": "Python 3"
    },
    "language_info": {
      "name": "python"
    }
  },
  "cells": [
    {
      "cell_type": "markdown",
      "metadata": {
        "id": "view-in-github",
        "colab_type": "text"
      },
      "source": [
        "<a href=\"https://colab.research.google.com/github/Nyakatodianah/Prediction-of-Product-Sales/blob/main/Prediction_of_product_sales_ipynb.ipynb\" target=\"_parent\"><img src=\"https://colab.research.google.com/assets/colab-badge.svg\" alt=\"Open In Colab\"/></a>"
      ]
    },
    {
      "cell_type": "code",
      "execution_count": null,
      "metadata": {
        "id": "eQGOOsms3pZO"
      },
      "outputs": [],
      "source": []
    },
    {
      "cell_type": "markdown",
      "source": [
        "# Nyakato Dianah"
      ],
      "metadata": {
        "id": "wl_hx1P56EOb"
      }
    },
    {
      "cell_type": "markdown",
      "source": [
        "# Prediction of production sales\n",
        "\n"
      ],
      "metadata": {
        "id": "8Y8L6vzd60Yt"
      }
    },
    {
      "cell_type": "markdown",
      "source": [
        "## project overview"
      ],
      "metadata": {
        "id": "GRi93Uqy7OKl"
      }
    },
    {
      "cell_type": "markdown",
      "source": [
        "## Load and Inspect Data"
      ],
      "metadata": {
        "id": "s9FdHnyZ7U-I"
      }
    },
    {
      "cell_type": "markdown",
      "source": [
        "## Clean Data"
      ],
      "metadata": {
        "id": "pVqCT9oz7b_9"
      }
    },
    {
      "cell_type": "markdown",
      "source": [
        "## Exploratory Data Analysis"
      ],
      "metadata": {
        "id": "dOyYU4Q-7mtL"
      }
    },
    {
      "cell_type": "markdown",
      "source": [
        "## Feature Inspection"
      ],
      "metadata": {
        "id": "15XSlQSZ7vch"
      }
    }
  ]
}