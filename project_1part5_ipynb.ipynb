{
  "nbformat": 4,
  "nbformat_minor": 0,
  "metadata": {
    "colab": {
      "provenance": [],
      "authorship_tag": "ABX9TyMZHx89CBcXCBXrgj09S+xe",
      "include_colab_link": true
    },
    "kernelspec": {
      "name": "python3",
      "display_name": "Python 3"
    },
    "language_info": {
      "name": "python"
    }
  },
  "cells": [
    {
      "cell_type": "markdown",
      "metadata": {
        "id": "view-in-github",
        "colab_type": "text"
      },
      "source": [
        "<a href=\"https://colab.research.google.com/github/Nyakatodianah/Prediction-of-Product-Sales/blob/main/project_1part5_ipynb.ipynb\" target=\"_parent\"><img src=\"https://colab.research.google.com/assets/colab-badge.svg\" alt=\"Open In Colab\"/></a>"
      ]
    },
    {
      "cell_type": "code",
      "execution_count": 2,
      "metadata": {
        "colab": {
          "base_uri": "https://localhost:8080/"
        },
        "id": "5niHKm-dDNav",
        "outputId": "4c421bfd-0792-407e-d6bf-cc34e53f90b6"
      },
      "outputs": [
        {
          "output_type": "stream",
          "name": "stdout",
          "text": [
            "Mounted at /content.drive\n"
          ]
        }
      ],
      "source": [
        "from google.colab import drive\n",
        "drive.mount('/content.drive')"
      ]
    },
    {
      "cell_type": "code",
      "source": [
        "import pandas as pd\n",
        "import numpy as np"
      ],
      "metadata": {
        "id": "m55pyW4KEzKV"
      },
      "execution_count": 3,
      "outputs": []
    },
    {
      "cell_type": "code",
      "source": [
        "filepath=\"/content.drive/MyDrive/Machine Learning /sales_predictions.csv\"\n",
        "filename=\"sales_predictions.csv\"\n",
        "df=pd.read_csv(filepath)\n",
        "print(df)"
      ],
      "metadata": {
        "colab": {
          "base_uri": "https://localhost:8080/"
        },
        "id": "8VanBvUVGT8I",
        "outputId": "826e0fc8-8c3e-401f-8201-d7a2606a0823"
      },
      "execution_count": 5,
      "outputs": [
        {
          "output_type": "stream",
          "name": "stdout",
          "text": [
            "     Item_Identifier  Item_Weight Item_Fat_Content  Item_Visibility  \\\n",
            "0              FDA15        9.300          Low Fat         0.016047   \n",
            "1              DRC01        5.920          Regular         0.019278   \n",
            "2              FDN15       17.500          Low Fat         0.016760   \n",
            "3              FDX07       19.200          Regular         0.000000   \n",
            "4              NCD19        8.930          Low Fat         0.000000   \n",
            "...              ...          ...              ...              ...   \n",
            "8518           FDF22        6.865          Low Fat         0.056783   \n",
            "8519           FDS36        8.380          Regular         0.046982   \n",
            "8520           NCJ29       10.600          Low Fat         0.035186   \n",
            "8521           FDN46        7.210          Regular         0.145221   \n",
            "8522           DRG01       14.800          Low Fat         0.044878   \n",
            "\n",
            "                  Item_Type  Item_MRP Outlet_Identifier  \\\n",
            "0                     Dairy  249.8092            OUT049   \n",
            "1               Soft Drinks   48.2692            OUT018   \n",
            "2                      Meat  141.6180            OUT049   \n",
            "3     Fruits and Vegetables  182.0950            OUT010   \n",
            "4                 Household   53.8614            OUT013   \n",
            "...                     ...       ...               ...   \n",
            "8518            Snack Foods  214.5218            OUT013   \n",
            "8519           Baking Goods  108.1570            OUT045   \n",
            "8520     Health and Hygiene   85.1224            OUT035   \n",
            "8521            Snack Foods  103.1332            OUT018   \n",
            "8522            Soft Drinks   75.4670            OUT046   \n",
            "\n",
            "      Outlet_Establishment_Year Outlet_Size Outlet_Location_Type  \\\n",
            "0                          1999      Medium               Tier 1   \n",
            "1                          2009      Medium               Tier 3   \n",
            "2                          1999      Medium               Tier 1   \n",
            "3                          1998         NaN               Tier 3   \n",
            "4                          1987        High               Tier 3   \n",
            "...                         ...         ...                  ...   \n",
            "8518                       1987        High               Tier 3   \n",
            "8519                       2002         NaN               Tier 2   \n",
            "8520                       2004       Small               Tier 2   \n",
            "8521                       2009      Medium               Tier 3   \n",
            "8522                       1997       Small               Tier 1   \n",
            "\n",
            "            Outlet_Type  Item_Outlet_Sales  \n",
            "0     Supermarket Type1          3735.1380  \n",
            "1     Supermarket Type2           443.4228  \n",
            "2     Supermarket Type1          2097.2700  \n",
            "3         Grocery Store           732.3800  \n",
            "4     Supermarket Type1           994.7052  \n",
            "...                 ...                ...  \n",
            "8518  Supermarket Type1          2778.3834  \n",
            "8519  Supermarket Type1           549.2850  \n",
            "8520  Supermarket Type1          1193.1136  \n",
            "8521  Supermarket Type2          1845.5976  \n",
            "8522  Supermarket Type1           765.6700  \n",
            "\n",
            "[8523 rows x 12 columns]\n"
          ]
        }
      ]
    },
    {
      "cell_type": "code",
      "source": [
        "df.info()"
      ],
      "metadata": {
        "colab": {
          "base_uri": "https://localhost:8080/"
        },
        "id": "ueV9Kk4bGvRq",
        "outputId": "ff7f4bd2-79f6-4b2b-ecbc-bc682b6c4434"
      },
      "execution_count": 6,
      "outputs": [
        {
          "output_type": "stream",
          "name": "stdout",
          "text": [
            "<class 'pandas.core.frame.DataFrame'>\n",
            "RangeIndex: 8523 entries, 0 to 8522\n",
            "Data columns (total 12 columns):\n",
            " #   Column                     Non-Null Count  Dtype  \n",
            "---  ------                     --------------  -----  \n",
            " 0   Item_Identifier            8523 non-null   object \n",
            " 1   Item_Weight                7060 non-null   float64\n",
            " 2   Item_Fat_Content           8523 non-null   object \n",
            " 3   Item_Visibility            8523 non-null   float64\n",
            " 4   Item_Type                  8523 non-null   object \n",
            " 5   Item_MRP                   8523 non-null   float64\n",
            " 6   Outlet_Identifier          8523 non-null   object \n",
            " 7   Outlet_Establishment_Year  8523 non-null   int64  \n",
            " 8   Outlet_Size                6113 non-null   object \n",
            " 9   Outlet_Location_Type       8523 non-null   object \n",
            " 10  Outlet_Type                8523 non-null   object \n",
            " 11  Item_Outlet_Sales          8523 non-null   float64\n",
            "dtypes: float64(4), int64(1), object(7)\n",
            "memory usage: 799.2+ KB\n"
          ]
        }
      ]
    },
    {
      "cell_type": "code",
      "source": [
        "dropping_duplicates=df.drop_duplicates()\n",
        "print(dropping_duplicates)"
      ],
      "metadata": {
        "colab": {
          "base_uri": "https://localhost:8080/"
        },
        "id": "UVRtj3YWGyi1",
        "outputId": "752a821f-90a3-46d5-81f2-2e4b03fe09f8"
      },
      "execution_count": 7,
      "outputs": [
        {
          "output_type": "stream",
          "name": "stdout",
          "text": [
            "     Item_Identifier  Item_Weight Item_Fat_Content  Item_Visibility  \\\n",
            "0              FDA15        9.300          Low Fat         0.016047   \n",
            "1              DRC01        5.920          Regular         0.019278   \n",
            "2              FDN15       17.500          Low Fat         0.016760   \n",
            "3              FDX07       19.200          Regular         0.000000   \n",
            "4              NCD19        8.930          Low Fat         0.000000   \n",
            "...              ...          ...              ...              ...   \n",
            "8518           FDF22        6.865          Low Fat         0.056783   \n",
            "8519           FDS36        8.380          Regular         0.046982   \n",
            "8520           NCJ29       10.600          Low Fat         0.035186   \n",
            "8521           FDN46        7.210          Regular         0.145221   \n",
            "8522           DRG01       14.800          Low Fat         0.044878   \n",
            "\n",
            "                  Item_Type  Item_MRP Outlet_Identifier  \\\n",
            "0                     Dairy  249.8092            OUT049   \n",
            "1               Soft Drinks   48.2692            OUT018   \n",
            "2                      Meat  141.6180            OUT049   \n",
            "3     Fruits and Vegetables  182.0950            OUT010   \n",
            "4                 Household   53.8614            OUT013   \n",
            "...                     ...       ...               ...   \n",
            "8518            Snack Foods  214.5218            OUT013   \n",
            "8519           Baking Goods  108.1570            OUT045   \n",
            "8520     Health and Hygiene   85.1224            OUT035   \n",
            "8521            Snack Foods  103.1332            OUT018   \n",
            "8522            Soft Drinks   75.4670            OUT046   \n",
            "\n",
            "      Outlet_Establishment_Year Outlet_Size Outlet_Location_Type  \\\n",
            "0                          1999      Medium               Tier 1   \n",
            "1                          2009      Medium               Tier 3   \n",
            "2                          1999      Medium               Tier 1   \n",
            "3                          1998         NaN               Tier 3   \n",
            "4                          1987        High               Tier 3   \n",
            "...                         ...         ...                  ...   \n",
            "8518                       1987        High               Tier 3   \n",
            "8519                       2002         NaN               Tier 2   \n",
            "8520                       2004       Small               Tier 2   \n",
            "8521                       2009      Medium               Tier 3   \n",
            "8522                       1997       Small               Tier 1   \n",
            "\n",
            "            Outlet_Type  Item_Outlet_Sales  \n",
            "0     Supermarket Type1          3735.1380  \n",
            "1     Supermarket Type2           443.4228  \n",
            "2     Supermarket Type1          2097.2700  \n",
            "3         Grocery Store           732.3800  \n",
            "4     Supermarket Type1           994.7052  \n",
            "...                 ...                ...  \n",
            "8518  Supermarket Type1          2778.3834  \n",
            "8519  Supermarket Type1           549.2850  \n",
            "8520  Supermarket Type1          1193.1136  \n",
            "8521  Supermarket Type2          1845.5976  \n",
            "8522  Supermarket Type1           765.6700  \n",
            "\n",
            "[8523 rows x 12 columns]\n"
          ]
        }
      ]
    },
    {
      "cell_type": "code",
      "source": [
        "from sklearn.impute import SimpleImputer\n",
        "\n",
        "# Handle inconsistencies in all categorical columns\n",
        "categorical_columns = df.select_dtypes(include=['object']).columns\n",
        "for col in categorical_columns:\n",
        "    # Convert all strings to lowercase for uniformity\n",
        "    df[col] = df[col].str.lower()\n",
        "\n",
        "    # Handle specific inconsistencies based on column\n",
        "    if col == 'item_fat_content':\n",
        "        df[col].replace({'low fat': 'low fat', 'lf': 'low fat', 'reg': 'regular'}, inplace=True)\n",
        "    elif col == 'outlet_size':\n",
        "        mode_imputer = SimpleImputer(strategy='most_frequent')\n",
        "        df[col] = mode_imputer.fit_transform(df[[col]]).ravel()\n",
        "\n",
        "# Check unique values in each categorical column after preprocessing\n",
        "for col in categorical_columns:\n",
        "    print(\"Unique values in\", col, \"after preprocessing:\", df[col].unique())\n",
        "\n"
      ],
      "metadata": {
        "colab": {
          "base_uri": "https://localhost:8080/"
        },
        "id": "Q99rlql4Hblm",
        "outputId": "ad71ca02-3f17-48a9-f0af-ed0a243adca7"
      },
      "execution_count": 32,
      "outputs": [
        {
          "output_type": "stream",
          "name": "stdout",
          "text": [
            "Unique values in Item_Identifier after preprocessing: ['fda15' 'drc01' 'fdn15' ... 'ncf55' 'ncw30' 'ncw05']\n",
            "Unique values in Item_Fat_Content after preprocessing: ['low fat' 'regular']\n",
            "Unique values in Item_Type after preprocessing: ['dairy' 'soft drinks' 'meat' 'fruits and vegetables' 'household'\n",
            " 'baking goods' 'snack foods' 'frozen foods' 'breakfast'\n",
            " 'health and hygiene' 'hard drinks' 'canned' 'breads' 'starchy foods'\n",
            " 'others' 'seafood']\n",
            "Unique values in Outlet_Identifier after preprocessing: ['out049' 'out018' 'out010' 'out013' 'out027' 'out045' 'out017' 'out046'\n",
            " 'out035' 'out019']\n",
            "Unique values in Outlet_Size after preprocessing: ['medium' 'high' 'small']\n",
            "Unique values in Outlet_Location_Type after preprocessing: ['tier 1' 'tier 3' 'tier 2']\n",
            "Unique values in Outlet_Type after preprocessing: ['supermarket type1' 'supermarket type2' 'grocery store'\n",
            " 'supermarket type3']\n"
          ]
        }
      ]
    },
    {
      "cell_type": "code",
      "source": [
        "# Standardize 'Item_Fat_Content' column\n",
        "df['Item_Fat_Content'] = df['Item_Fat_Content'].replace({'lf': 'low fat', 'reg': 'regular'})\n",
        "df['Item_Fat_Content'] = df['Item_Fat_Content'].str.lower()\n",
        "print(\"Unique values in Item_Fat_Content after fixing inconsistencies:\", df['Item_Fat_Content'].unique())"
      ],
      "metadata": {
        "colab": {
          "base_uri": "https://localhost:8080/"
        },
        "id": "9tARlve8KcMv",
        "outputId": "6730195c-0617-45e3-8355-9be68340138c"
      },
      "execution_count": 33,
      "outputs": [
        {
          "output_type": "stream",
          "name": "stdout",
          "text": [
            "Unique values in Item_Fat_Content after fixing inconsistencies: ['low fat' 'regular']\n"
          ]
        }
      ]
    },
    {
      "cell_type": "code",
      "source": [
        "X=df.drop(columns=[\"Item_Outlet_Sales\"])\n",
        "Y = df[\"Item_Outlet_Sales\"]\n",
        "print(\"Shape of Features (X):\", X.shape)\n",
        "print(\"Shape of target (Y):\", Y.shape)"
      ],
      "metadata": {
        "colab": {
          "base_uri": "https://localhost:8080/"
        },
        "id": "sGIURddsKoTO",
        "outputId": "d41df742-5081-4cc7-f250-17969daf15ea"
      },
      "execution_count": 34,
      "outputs": [
        {
          "output_type": "stream",
          "name": "stdout",
          "text": [
            "Shape of Features (X): (8523, 11)\n",
            "Shape of target (Y): (8523,)\n"
          ]
        }
      ]
    },
    {
      "cell_type": "code",
      "source": [
        "print(df.columns)\n",
        "df.dtypes"
      ],
      "metadata": {
        "colab": {
          "base_uri": "https://localhost:8080/"
        },
        "id": "W3_3zISQOe4O",
        "outputId": "fdb35a37-e5c7-4412-e3cd-625df772e684"
      },
      "execution_count": 35,
      "outputs": [
        {
          "output_type": "stream",
          "name": "stdout",
          "text": [
            "Index(['Item_Identifier', 'Item_Weight', 'Item_Fat_Content', 'Item_Visibility',\n",
            "       'Item_Type', 'Item_MRP', 'Outlet_Identifier',\n",
            "       'Outlet_Establishment_Year', 'Outlet_Size', 'Outlet_Location_Type',\n",
            "       'Outlet_Type', 'Item_Outlet_Sales'],\n",
            "      dtype='object')\n"
          ]
        },
        {
          "output_type": "execute_result",
          "data": {
            "text/plain": [
              "Item_Identifier               object\n",
              "Item_Weight                  float64\n",
              "Item_Fat_Content              object\n",
              "Item_Visibility              float64\n",
              "Item_Type                     object\n",
              "Item_MRP                     float64\n",
              "Outlet_Identifier             object\n",
              "Outlet_Establishment_Year      int64\n",
              "Outlet_Size                   object\n",
              "Outlet_Location_Type          object\n",
              "Outlet_Type                   object\n",
              "Item_Outlet_Sales            float64\n",
              "dtype: object"
            ]
          },
          "metadata": {},
          "execution_count": 35
        }
      ]
    },
    {
      "cell_type": "code",
      "source": [
        "# Drop the \"Item_Identifier\" feature\n",
        "X.drop(columns=[\"Item_Identifier\"], inplace=True)\n",
        "\n",
        "# Display the updated shape of X\n",
        "print(\"Shape of features (X) after dropping 'Item_Identifier':\", X.shape)\n"
      ],
      "metadata": {
        "colab": {
          "base_uri": "https://localhost:8080/"
        },
        "id": "EADzpHpGOIMz",
        "outputId": "d5de71e9-4ddd-47c6-f915-8e8b67287b04"
      },
      "execution_count": 36,
      "outputs": [
        {
          "output_type": "stream",
          "name": "stdout",
          "text": [
            "Shape of features (X) after dropping 'Item_Identifier': (8523, 10)\n"
          ]
        }
      ]
    },
    {
      "cell_type": "code",
      "source": [
        "#Perform a train test split\n",
        "from sklearn.model_selection import train_test_split\n",
        "X_train,X_test,Y_train,Y_test=train_test_split(X,Y, random_state=42)\n",
        "print(\"Shape of X_train\",X_train.shape)\n",
        "print(\"Shape of X_test\",X_test.shape)\n",
        "print(\"Shape of Y_train\",Y_train.shape)\n",
        "print(\"Shape of Y_train\",Y_test.shape)"
      ],
      "metadata": {
        "colab": {
          "base_uri": "https://localhost:8080/"
        },
        "id": "sI9cI5fiPbx5",
        "outputId": "b8cc7263-cb18-41d5-9c1d-cb9b4e1ce9b0"
      },
      "execution_count": 37,
      "outputs": [
        {
          "output_type": "stream",
          "name": "stdout",
          "text": [
            "Shape of X_train (6392, 10)\n",
            "Shape of X_test (2131, 10)\n",
            "Shape of Y_train (6392,)\n",
            "Shape of Y_train (2131,)\n"
          ]
        }
      ]
    },
    {
      "cell_type": "code",
      "source": [
        "#Create a preprocessing object to prepare the dataset for Machine Learning\n",
        "from sklearn.pipeline import Pipeline\n",
        "from sklearn.compose import ColumnTransformer\n",
        "from sklearn.impute import SimpleImputer\n",
        "from sklearn.preprocessing import StandardScaler, OneHotEncoder\n",
        "\n",
        "# Define the numeric features and categorical features\n",
        "numeric_features = ['Item_Weight', 'Item_Visibility', 'Item_MRP', 'Outlet_Establishment_Year']\n",
        "categorical_features = ['Item_Fat_Content', 'Item_Type', 'Outlet_Identifier', 'Outlet_Size', 'Outlet_Location_Type', 'Outlet_Type']\n",
        "\n",
        "# Create preprocessing transformers for numeric and categorical features\n",
        "numeric_transformer = Pipeline(steps=[\n",
        "    ('imputer', SimpleImputer(strategy='mean')),\n",
        "    ('scaler', StandardScaler())\n",
        "])\n",
        "\n",
        "categorical_transformer = Pipeline(steps=[\n",
        "    ('imputer', SimpleImputer(strategy='most_frequent')),\n",
        "    ('onehot', OneHotEncoder(handle_unknown='ignore'))\n",
        "])\n",
        "\n",
        "# Create a ColumnTransformer to apply the preprocessing transformers to the appropriate columns\n",
        "preprocessor = ColumnTransformer(\n",
        "    transformers=[\n",
        "        ('num', numeric_transformer, numeric_features),\n",
        "        ('cat', categorical_transformer, categorical_features)\n",
        "    ])\n",
        "\n",
        "# Display the preprocessing object\n",
        "print(preprocessor)\n"
      ],
      "metadata": {
        "colab": {
          "base_uri": "https://localhost:8080/"
        },
        "id": "Y00B4FXESQL3",
        "outputId": "45048ee0-fdbd-4689-f3fc-f51a9e77a8af"
      },
      "execution_count": 38,
      "outputs": [
        {
          "output_type": "stream",
          "name": "stdout",
          "text": [
            "ColumnTransformer(transformers=[('num',\n",
            "                                 Pipeline(steps=[('imputer', SimpleImputer()),\n",
            "                                                 ('scaler', StandardScaler())]),\n",
            "                                 ['Item_Weight', 'Item_Visibility', 'Item_MRP',\n",
            "                                  'Outlet_Establishment_Year']),\n",
            "                                ('cat',\n",
            "                                 Pipeline(steps=[('imputer',\n",
            "                                                  SimpleImputer(strategy='most_frequent')),\n",
            "                                                 ('onehot',\n",
            "                                                  OneHotEncoder(handle_unknown='ignore'))]),\n",
            "                                 ['Item_Fat_Content', 'Item_Type',\n",
            "                                  'Outlet_Identifier', 'Outlet_Size',\n",
            "                                  'Outlet_Location_Type', 'Outlet_Type'])])\n"
          ]
        }
      ]
    },
    {
      "cell_type": "code",
      "source": [
        "#Make sure your imputation of missing values occurs after the train test split using SimpleImputer.\n",
        "# Apply the ColumnTransformer to the training data\n",
        "X_train_preprocessed = preprocessor.fit_transform(X_train)\n",
        "\n",
        "# Apply the ColumnTransformer to the testing data\n",
        "X_test_preprocessed = preprocessor.transform(X_test)\n",
        "\n",
        "# Display the preprocessed training and testing data\n",
        "print(\"Preprocessed Training Data:\")\n",
        "print(X_train_preprocessed)\n",
        "print(\"\\nPreprocessed Testing Data:\")\n",
        "print(X_test_preprocessed)\n"
      ],
      "metadata": {
        "colab": {
          "base_uri": "https://localhost:8080/"
        },
        "id": "vg7_oJK4Spbc",
        "outputId": "f8031ab1-1fab-48b2-98e2-fff8e03a81f0"
      },
      "execution_count": 39,
      "outputs": [
        {
          "output_type": "stream",
          "name": "stdout",
          "text": [
            "Preprocessed Training Data:\n",
            "  (0, 0)\t0.8172486782467712\n",
            "  (0, 1)\t-0.7127750716052249\n",
            "  (0, 2)\t1.8281092189993307\n",
            "  (0, 3)\t1.3278489341413338\n",
            "  (0, 4)\t1.0\n",
            "  (0, 15)\t1.0\n",
            "  (0, 25)\t1.0\n",
            "  (0, 33)\t1.0\n",
            "  (0, 37)\t1.0\n",
            "  (0, 40)\t1.0\n",
            "  (1, 0)\t0.5563395034619393\n",
            "  (1, 1)\t-1.291052247079188\n",
            "  (1, 2)\t0.6033688805132759\n",
            "  (1, 3)\t1.3278489341413338\n",
            "  (1, 5)\t1.0\n",
            "  (1, 19)\t1.0\n",
            "  (1, 25)\t1.0\n",
            "  (1, 33)\t1.0\n",
            "  (1, 37)\t1.0\n",
            "  (1, 40)\t1.0\n",
            "  (2, 0)\t-0.131511957334435\n",
            "  (2, 1)\t1.8133186433439548\n",
            "  (2, 2)\t0.24454055715071762\n",
            "  (2, 3)\t0.13618724414043062\n",
            "  (2, 5)\t1.0\n",
            "  :\t:\n",
            "  (6389, 14)\t1.0\n",
            "  (6389, 29)\t1.0\n",
            "  (6389, 33)\t1.0\n",
            "  (6389, 36)\t1.0\n",
            "  (6389, 39)\t1.0\n",
            "  (6390, 0)\t1.7660093138279769\n",
            "  (6390, 1)\t-0.22775520135060978\n",
            "  (6390, 2)\t-0.38377707627087376\n",
            "  (6390, 3)\t1.089516596141153\n",
            "  (6390, 4)\t1.0\n",
            "  (6390, 19)\t1.0\n",
            "  (6390, 24)\t1.0\n",
            "  (6390, 33)\t1.0\n",
            "  (6390, 36)\t1.0\n",
            "  (6390, 39)\t1.0\n",
            "  (6391, 0)\t0.8172486782467712\n",
            "  (6391, 1)\t-0.9586768265695343\n",
            "  (6391, 2)\t-0.7383610459950399\n",
            "  (6391, 3)\t-0.10214509385974999\n",
            "  (6391, 4)\t1.0\n",
            "  (6391, 15)\t1.0\n",
            "  (6391, 30)\t1.0\n",
            "  (6391, 34)\t1.0\n",
            "  (6391, 35)\t1.0\n",
            "  (6391, 39)\t1.0\n",
            "\n",
            "Preprocessed Testing Data:\n",
            "  (0, 0)\t0.33100885251140305\n",
            "  (0, 1)\t-0.7766462476459127\n",
            "  (0, 2)\t-0.9988155355551928\n",
            "  (0, 3)\t-1.293806783860653\n",
            "  (0, 4)\t1.0\n",
            "  (0, 11)\t1.0\n",
            "  (0, 23)\t1.0\n",
            "  (0, 32)\t1.0\n",
            "  (0, 37)\t1.0\n",
            "  (0, 39)\t1.0\n",
            "  (1, 0)\t-1.1798924596516673\n",
            "  (1, 1)\t0.10031660276043455\n",
            "  (1, 2)\t-1.5851942284354996\n",
            "  (1, 3)\t-0.10214509385974999\n",
            "  (1, 4)\t1.0\n",
            "  (1, 14)\t1.0\n",
            "  (1, 30)\t1.0\n",
            "  (1, 34)\t1.0\n",
            "  (1, 35)\t1.0\n",
            "  (1, 39)\t1.0\n",
            "  (2, 0)\t0.3784468842904632\n",
            "  (2, 1)\t-0.4829943187611561\n",
            "  (2, 2)\t-1.5957843538417513\n",
            "  (2, 3)\t0.13618724414043062\n",
            "  (2, 5)\t1.0\n",
            "  :\t:\n",
            "  (2128, 12)\t1.0\n",
            "  (2128, 29)\t1.0\n",
            "  (2128, 33)\t1.0\n",
            "  (2128, 36)\t1.0\n",
            "  (2128, 39)\t1.0\n",
            "  (2129, 0)\t-1.4977272725713713\n",
            "  (2129, 1)\t-0.7780956710837439\n",
            "  (2129, 2)\t-0.36679966171730477\n",
            "  (2129, 3)\t0.13618724414043062\n",
            "  (2129, 4)\t1.0\n",
            "  (2129, 15)\t1.0\n",
            "  (2129, 31)\t1.0\n",
            "  (2129, 33)\t1.0\n",
            "  (2129, 35)\t1.0\n",
            "  (2129, 39)\t1.0\n",
            "  (2130, 0)\t0.520760979627644\n",
            "  (2130, 1)\t-0.779762926606579\n",
            "  (2130, 2)\t0.11221189424117377\n",
            "  (2130, 3)\t1.089516596141153\n",
            "  (2130, 4)\t1.0\n",
            "  (2130, 11)\t1.0\n",
            "  (2130, 24)\t1.0\n",
            "  (2130, 33)\t1.0\n",
            "  (2130, 36)\t1.0\n",
            "  (2130, 39)\t1.0\n"
          ]
        }
      ]
    }
  ]
}